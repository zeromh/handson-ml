{
 "cells": [
  {
   "cell_type": "markdown",
   "metadata": {
    "deletable": true,
    "editable": true
   },
   "source": [
    "**Chapter 7 – Ensemble Learning and Random Forests**"
   ]
  },
  {
   "cell_type": "markdown",
   "metadata": {
    "collapsed": true,
    "deletable": true,
    "editable": true
   },
   "source": [
    "# 8. Train various classifiers on MNIST data, then combine them into an ensemble"
   ]
  },
  {
   "cell_type": "code",
   "execution_count": 32,
   "metadata": {
    "collapsed": false
   },
   "outputs": [],
   "source": [
    "from sklearn.model_selection import train_test_split, GridSearchCV\n",
    "from sklearn.svm import LinearSVC, SVC\n",
    "from sklearn.ensemble import ExtraTreesClassifier, RandomForestClassifier, VotingClassifier\n",
    "from sklearn.linear_model import LogisticRegression\n",
    "from sklearn.metrics import f1_score, f1_score\n",
    "import numpy as np\n",
    "import time"
   ]
  },
  {
   "cell_type": "code",
   "execution_count": 2,
   "metadata": {
    "collapsed": true,
    "deletable": true,
    "editable": true
   },
   "outputs": [],
   "source": [
    "from sklearn.datasets import fetch_mldata\n",
    "mnist = fetch_mldata('MNIST original')\n",
    "X, y = mnist[\"data\"], mnist[\"target\"]"
   ]
  },
  {
   "cell_type": "code",
   "execution_count": 3,
   "metadata": {
    "collapsed": false
   },
   "outputs": [
    {
     "name": "stdout",
     "output_type": "stream",
     "text": [
      "X_train shape: (50000, 784)\n",
      "X_val shape: (10000, 784)\n",
      "X_test shape: (10000, 784)\n"
     ]
    }
   ],
   "source": [
    "X_train, X_test, y_train, y_test = train_test_split(X, y, test_size = 10000, random_state=43)\n",
    "X_train, X_val, y_train, y_val = train_test_split(X_train, y_train, test_size = 10000, random_state=42)\n",
    "print 'X_train shape:', X_train.shape\n",
    "print 'X_val shape:', X_val.shape\n",
    "print 'X_test shape:', X_test.shape"
   ]
  },
  {
   "cell_type": "code",
   "execution_count": 9,
   "metadata": {
    "collapsed": false
   },
   "outputs": [
    {
     "data": {
      "text/plain": [
       "VotingClassifier(estimators=[('log_reg', LogisticRegression(C=1.0, class_weight=None, dual=False, fit_intercept=True,\n",
       "          intercept_scaling=1, max_iter=100, multi_class='ovr', n_jobs=-1,\n",
       "          penalty='l2', random_state=None, solver='liblinear', tol=0.0001,\n",
       "          verbose=0, warm_start=False)), ('rf', R...mators=100, n_jobs=-1, oob_score=False, random_state=None,\n",
       "           verbose=0, warm_start=False))],\n",
       "         n_jobs=1, voting='soft', weights=None)"
      ]
     },
     "execution_count": 9,
     "metadata": {},
     "output_type": "execute_result"
    }
   ],
   "source": [
    "# It takes about an hour to train the log_reg model. The others are pretty fast.\n",
    "vote_clf = VotingClassifier([('log_reg', LogisticRegression(penalty='l2', n_jobs=-1)), \n",
    "                             ('rf', RandomForestClassifier(n_estimators=100, min_samples_leaf=1, n_jobs=-1)),\n",
    "                             ('et', ExtraTreesClassifier(n_estimators=100, min_samples_leaf=1, n_jobs=-1))],\n",
    "               voting='soft')\n",
    "vote_clf.fit(X_train, y_train)"
   ]
  },
  {
   "cell_type": "code",
   "execution_count": 19,
   "metadata": {
    "collapsed": false
   },
   "outputs": [
    {
     "name": "stdout",
     "output_type": "stream",
     "text": [
      "Validation accuracy:\n",
      "Logistic Regression: 0.9142\n",
      "Random Forest: 0.9686\n",
      "Extra Trees Classifier: 0.971\n",
      "Ensemble: 0.9538\n"
     ]
    }
   ],
   "source": [
    "print 'Validation accuracy:'\n",
    "print 'Logistic Regression:', accuracy_score(y_val, vote_clf.estimators_[0].predict(X_val))\n",
    "print 'Random Forest:', accuracy_score(y_val, vote_clf.estimators_[1].predict(X_val))\n",
    "print 'Extra Trees Classifier:', accuracy_score(y_val, vote_clf.estimators_[2].predict(X_val))\n",
    "print 'Ensemble:', accuracy_score(y_val, vote_clf.predict(X_val))"
   ]
  },
  {
   "cell_type": "code",
   "execution_count": 16,
   "metadata": {
    "collapsed": false
   },
   "outputs": [
    {
     "name": "stdout",
     "output_type": "stream",
     "text": [
      "Test accuracy:\n",
      "Logistic Regression: 0.9154\n",
      "Random Forest: 0.9672\n",
      "Extra Trees Classifier: 0.9723\n",
      "Ensemble: 0.9579\n"
     ]
    }
   ],
   "source": [
    "print 'Test accuracy:'\n",
    "print 'Logistic Regression:', accuracy_score(y_test, vote_clf.estimators_[0].predict(X_test))\n",
    "print 'Random Forest:', accuracy_score(y_test, vote_clf.estimators_[1].predict(X_test))\n",
    "print 'Extra Trees Classifier:', accuracy_score(y_test, vote_clf.estimators_[2].predict(X_test))\n",
    "print 'Ensemble:', accuracy_score(y_test, vote_clf.predict(X_test))"
   ]
  },
  {
   "cell_type": "markdown",
   "metadata": {},
   "source": [
    "# Combine predictions from the individual classifiers above and train a classifier on those predictions."
   ]
  },
  {
   "cell_type": "code",
   "execution_count": 36,
   "metadata": {
    "collapsed": false
   },
   "outputs": [],
   "source": [
    "preds = []\n",
    "for est in vote_clf.estimators_:\n",
    "    preds.append(est.predict_proba(X_train))"
   ]
  },
  {
   "cell_type": "code",
   "execution_count": 35,
   "metadata": {
    "collapsed": false
   },
   "outputs": [
    {
     "data": {
      "text/plain": [
       "(50000, 30)"
      ]
     },
     "execution_count": 35,
     "metadata": {},
     "output_type": "execute_result"
    }
   ],
   "source": [
    "m_train = np.c_[preds[0], preds[1], preds[2]]\n",
    "m_train.shape"
   ]
  },
  {
   "cell_type": "code",
   "execution_count": 48,
   "metadata": {
    "collapsed": false
   },
   "outputs": [
    {
     "name": "stdout",
     "output_type": "stream",
     "text": [
      " Best parameters: {'min_samples_leaf': 1}\n"
     ]
    }
   ],
   "source": [
    "rf_blender = RandomForestClassifier(n_estimators=100)\n",
    "param_grid = {'min_samples_leaf':[1, 2, 3, 5, 10]}\n",
    "grid_search = GridSearchCV(rf_blender, param_grid, scoring='accuracy', n_jobs=-1)\n",
    "grid_search.fit(m_train, y_train)\n",
    "print 'Best parameters:', grid_search.best_params_"
   ]
  },
  {
   "cell_type": "code",
   "execution_count": 44,
   "metadata": {
    "collapsed": true
   },
   "outputs": [],
   "source": [
    "preds = []\n",
    "for est in vote_clf.estimators_:\n",
    "    preds.append(est.predict_proba(X_val))\n",
    "m_val = np.c_[preds[0], preds[1], preds[2]]"
   ]
  },
  {
   "cell_type": "code",
   "execution_count": 51,
   "metadata": {
    "collapsed": false
   },
   "outputs": [
    {
     "name": "stdout",
     "output_type": "stream",
     "text": [
      "Random Forest Blender validation accuracy: 0.9385\n"
     ]
    }
   ],
   "source": [
    "blender_val_preds = grid_search.best_estimator_.predict(m_val)\n",
    "\n",
    "print 'Random Forest Blender validation accuracy:', accuracy_score(y_val, blender_val_preds)"
   ]
  },
  {
   "cell_type": "code",
   "execution_count": null,
   "metadata": {
    "collapsed": true
   },
   "outputs": [],
   "source": []
  }
 ],
 "metadata": {
  "anaconda-cloud": {},
  "kernelspec": {
   "display_name": "Python [conda root]",
   "language": "python",
   "name": "conda-root-py"
  },
  "language_info": {
   "codemirror_mode": {
    "name": "ipython",
    "version": 2
   },
   "file_extension": ".py",
   "mimetype": "text/x-python",
   "name": "python",
   "nbconvert_exporter": "python",
   "pygments_lexer": "ipython2",
   "version": "2.7.12"
  },
  "nav_menu": {
   "height": "252px",
   "width": "333px"
  },
  "toc": {
   "navigate_menu": true,
   "number_sections": true,
   "sideBar": true,
   "threshold": 6,
   "toc_cell": false,
   "toc_section_display": "block",
   "toc_window_display": false
  }
 },
 "nbformat": 4,
 "nbformat_minor": 0
}
