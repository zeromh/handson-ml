{
 "cells": [
  {
   "cell_type": "markdown",
   "metadata": {
    "deletable": true,
    "editable": true
   },
   "source": [
    "**Chapter 6 – Decision Trees**"
   ]
  },
  {
   "cell_type": "markdown",
   "metadata": {
    "collapsed": true,
    "deletable": true,
    "editable": true
   },
   "source": [
    "# Exercise solutions"
   ]
  },
  {
   "cell_type": "markdown",
   "metadata": {
    "collapsed": true,
    "deletable": true,
    "editable": true
   },
   "source": [
    "## 7."
   ]
  },
  {
   "cell_type": "markdown",
   "metadata": {
    "deletable": true,
    "editable": true
   },
   "source": [
    "Train and fine-tune a Decision Tree binary classifier for the moons dataset. You should get test accuracy between 85% and 87%."
   ]
  },
  {
   "cell_type": "code",
   "execution_count": 69,
   "metadata": {
    "collapsed": false
   },
   "outputs": [],
   "source": [
    "from sklearn.datasets import make_moons\n",
    "from sklearn.model_selection import train_test_split\n",
    "from sklearn.model_selection import GridSearchCV\n",
    "from sklearn.model_selection import ShuffleSplit\n",
    "from sklearn.tree import DecisionTreeClassifier\n",
    "from sklearn.metrics import accuracy_score\n",
    "from sklearn.base import clone\n",
    "from scipy.stats import mode\n",
    "import numpy as np\n",
    "import pandas as pd\n"
   ]
  },
  {
   "cell_type": "code",
   "execution_count": 8,
   "metadata": {
    "collapsed": false,
    "deletable": true,
    "editable": true
   },
   "outputs": [
    {
     "name": "stdout",
     "output_type": "stream",
     "text": [
      "X shape: (8000, 2)\n",
      "y shape: (10000,)\n"
     ]
    }
   ],
   "source": [
    "X, y = make_moons(n_samples=10000, noise=0.4, random_state=42)\n",
    "print 'X shape:', X_train.shape\n",
    "print 'y shape:', y.shape\n",
    "X_train, X_test, y_train, y_test = train_test_split(X, y, test_size=0.2, random_state=42)"
   ]
  },
  {
   "cell_type": "code",
   "execution_count": 48,
   "metadata": {
    "collapsed": false,
    "deletable": true,
    "editable": true
   },
   "outputs": [],
   "source": [
    "tree_clf = DecisionTreeClassifier()\n",
    "param_grid = dict(max_depth = range(2,16))\n",
    "grid_search = GridSearchCV(tree_clf, param_grid, n_jobs=-1)"
   ]
  },
  {
   "cell_type": "code",
   "execution_count": 49,
   "metadata": {
    "collapsed": false,
    "deletable": true,
    "editable": true
   },
   "outputs": [
    {
     "name": "stdout",
     "output_type": "stream",
     "text": [
      "tree_clf best average accuracy: 0.8525 \n",
      "\n",
      "tree_clf best parameters: {'max_depth': 2}\n"
     ]
    }
   ],
   "source": [
    "grid_search.fit(X_train, y_train)\n",
    "print 'tree_clf best average accuracy:', grid_search.best_score_, '\\n'\n",
    "print 'tree_clf best parameters:', grid_search.best_params_"
   ]
  },
  {
   "cell_type": "code",
   "execution_count": 50,
   "metadata": {
    "collapsed": false
   },
   "outputs": [
    {
     "name": "stdout",
     "output_type": "stream",
     "text": [
      "tree_clf test accuracy: 0.863\n"
     ]
    }
   ],
   "source": [
    "print 'tree_clf test accuracy:', accuracy_score(y_test, grid_search.best_estimator_.predict(X_test))"
   ]
  },
  {
   "cell_type": "markdown",
   "metadata": {},
   "source": [
    "# 8.\n",
    "Grow a forest using trees with the best hyperparameters from above."
   ]
  },
  {
   "cell_type": "code",
   "execution_count": 77,
   "metadata": {
    "collapsed": false
   },
   "outputs": [
    {
     "name": "stdout",
     "output_type": "stream",
     "text": [
      "Description of test accuracies for 1000 decision trees:\n",
      "                 0\n",
      "count  1000.000000\n",
      "mean      0.835481\n",
      "std       0.031183\n",
      "min       0.677500\n",
      "25%       0.822500\n",
      "50%       0.844500\n",
      "75%       0.858000\n",
      "max       0.873000\n"
     ]
    }
   ],
   "source": [
    "# Grow 1000 trees, each one based on 100 training observations\n",
    "rs = ShuffleSplit(n_splits = 1000, train_size=100, random_state=42) \n",
    "forest = []\n",
    "all_tree_preds = []\n",
    "scores = []\n",
    "for train_ix, test_ix in rs.split(X_train):\n",
    "    tree = clone(grid_search.best_estimator_)\n",
    "    tree.fit(X_train[train_ix], y_train[train_ix])\n",
    "    tree_preds = tree.predict(X_test)\n",
    "    score = accuracy_score(y_test, tree_preds)\n",
    "    forest.append(tree)\n",
    "    scores.append(score)\n",
    "    all_tree_preds.append(tree_preds)\n",
    "                           \n",
    "print 'Description of test accuracies for 1000 decision trees:\\n', pd.DataFrame(scores).describe()"
   ]
  },
  {
   "cell_type": "code",
   "execution_count": 79,
   "metadata": {
    "collapsed": false
   },
   "outputs": [
    {
     "name": "stdout",
     "output_type": "stream",
     "text": [
      "Accuracy of DIY random forest on test set: 0.8705\n"
     ]
    }
   ],
   "source": [
    "# For each test set observation, make predictions using the majority vote of all the trees\n",
    "all_tree_preds_matrix = np.array(all_tree_preds)\n",
    "majority_vote_preds = np.reshape(mode(all_tree_preds_matrix, axis=0).mode, -1)\n",
    "\n",
    "print 'Accuracy of DIY random forest on test set:', accuracy_score(y_test, majority_vote_preds)"
   ]
  },
  {
   "cell_type": "code",
   "execution_count": null,
   "metadata": {
    "collapsed": true
   },
   "outputs": [],
   "source": []
  }
 ],
 "metadata": {
  "anaconda-cloud": {},
  "kernelspec": {
   "display_name": "Python [conda root]",
   "language": "python",
   "name": "conda-root-py"
  },
  "language_info": {
   "codemirror_mode": {
    "name": "ipython",
    "version": 2
   },
   "file_extension": ".py",
   "mimetype": "text/x-python",
   "name": "python",
   "nbconvert_exporter": "python",
   "pygments_lexer": "ipython2",
   "version": "2.7.12"
  },
  "nav_menu": {
   "height": "309px",
   "width": "468px"
  },
  "toc": {
   "navigate_menu": true,
   "number_sections": true,
   "sideBar": true,
   "threshold": 6,
   "toc_cell": false,
   "toc_section_display": "block",
   "toc_window_display": false
  }
 },
 "nbformat": 4,
 "nbformat_minor": 0
}
